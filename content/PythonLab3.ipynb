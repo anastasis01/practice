{
 "cells": [
  {
   "cell_type": "markdown",
   "id": "73238afa-da9d-48d7-9bb1-fcab6ffb795c",
   "metadata": {},
   "source": [
    "### Άσκηση 1"
   ]
  },
  {
   "cell_type": "markdown",
   "id": "2ca3410e-83d4-440c-94bf-4831c3279780",
   "metadata": {},
   "source": [
    "#### Αναθέστε έναν θετικό ακέραιο σε μια μεταβλητή.\n",
    "#### Τυπώστε \"Άρτιος\" αν είναι άρτιος και \"Περιττός\" αν είναι περιττός."
   ]
  },
  {
   "cell_type": "code",
   "execution_count": 5,
   "id": "a650b191-9351-4b60-8d01-467654ab0901",
   "metadata": {},
   "outputs": [],
   "source": []
  },
  {
   "cell_type": "code",
   "execution_count": null,
   "id": "bcba2d50-8587-4b6f-a293-a55f742f3cca",
   "metadata": {},
   "outputs": [],
   "source": []
  },
  {
   "cell_type": "code",
   "execution_count": null,
   "id": "de456102-1066-4d77-add8-6022becc2ec7",
   "metadata": {},
   "outputs": [],
   "source": []
  },
  {
   "cell_type": "code",
   "execution_count": null,
   "id": "4c0be3bc-fa91-48a9-a383-c1e8c2ad1276",
   "metadata": {},
   "outputs": [],
   "source": []
  },
  {
   "cell_type": "code",
   "execution_count": null,
   "id": "22e5de95-1bb7-48a1-85b2-44febbfe4ab6",
   "metadata": {},
   "outputs": [],
   "source": []
  },
  {
   "cell_type": "markdown",
   "id": "b51eba86-5b84-4c9f-8d74-170761085988",
   "metadata": {},
   "source": [
    "### Άσκηση 2"
   ]
  },
  {
   "cell_type": "markdown",
   "id": "ee580c9e-d952-4c44-a7c1-ac5912969b12",
   "metadata": {},
   "source": [
    "#### Αναθέστε έναν θετικό ακέραιο σε μια μεταβλητή.\n",
    "#### Τυπώστε το όνομά του αν είναι μικρότερος του 4.\n",
    "#### Διαφορετικά, τυπώστε \"Μεγαλύτερος του 4\"."
   ]
  },
  {
   "cell_type": "code",
   "execution_count": null,
   "id": "d55c03ad-2bd5-4874-8b86-33857b7453ad",
   "metadata": {},
   "outputs": [],
   "source": []
  },
  {
   "cell_type": "code",
   "execution_count": null,
   "id": "41053252-96cd-4346-96db-96d3547e85b0",
   "metadata": {},
   "outputs": [],
   "source": []
  },
  {
   "cell_type": "code",
   "execution_count": null,
   "id": "a1f2a59d-e26d-4204-8b04-3258b131b3d1",
   "metadata": {},
   "outputs": [],
   "source": []
  },
  {
   "cell_type": "code",
   "execution_count": null,
   "id": "ff7a5395-e26b-436a-ab6b-8260397bad5e",
   "metadata": {},
   "outputs": [],
   "source": []
  },
  {
   "cell_type": "code",
   "execution_count": null,
   "id": "5000d0ce-a7e8-4346-b957-6935781fc946",
   "metadata": {},
   "outputs": [],
   "source": []
  }
 ],
 "metadata": {
  "kernelspec": {
   "display_name": "Python 3 (ipykernel)",
   "language": "python",
   "name": "python3"
  },
  "language_info": {
   "codemirror_mode": {
    "name": "ipython",
    "version": 3
   },
   "file_extension": ".py",
   "mimetype": "text/x-python",
   "name": "python",
   "nbconvert_exporter": "python",
   "pygments_lexer": "ipython3",
   "version": "3.13.1"
  }
 },
 "nbformat": 4,
 "nbformat_minor": 5
}
