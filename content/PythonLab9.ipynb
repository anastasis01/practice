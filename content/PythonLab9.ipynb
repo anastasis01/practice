{
 "cells": [
  {
   "cell_type": "raw",
   "id": "f4635b85-4e23-4b77-b644-878cf3fbb6e7",
   "metadata": {},
   "source": [
    "1)Δημιούργησε την κλάση Book με τις εξής ιδιότητες:\n",
    "title\n",
    "author\n",
    "year\n",
    "2)Πρόσθεσε μια μέθοδο display_info() που θα εκτυπώνει όλες τις πληροφορίες του βιβλίου με όμορφο τρόπο.\n",
    "3)Φτιάξε 3 αντικείμενα Book και αποθήκευσέ τα σε λίστα.\n",
    "4)Επανέλαβε πάνω στη λίστα και κάλεσε τη display_info() για κάθε βιβλίο."
   ]
  },
  {
   "cell_type": "code",
   "execution_count": null,
   "id": "b689befd-bcaf-41e2-94f8-a5567b94b4a5",
   "metadata": {},
   "outputs": [],
   "source": []
  },
  {
   "cell_type": "code",
   "execution_count": null,
   "id": "cfec4249-36ce-49d3-82b9-4e5e35317956",
   "metadata": {},
   "outputs": [],
   "source": []
  },
  {
   "cell_type": "code",
   "execution_count": null,
   "id": "b395a8e5-c770-4435-953e-12b5c5570ca7",
   "metadata": {},
   "outputs": [],
   "source": []
  },
  {
   "cell_type": "code",
   "execution_count": null,
   "id": "e4a2eafa-aae2-4162-9d30-4f1cf13219d1",
   "metadata": {},
   "outputs": [],
   "source": []
  },
  {
   "cell_type": "code",
   "execution_count": null,
   "id": "f15643b0-0ab0-435a-acc6-d7451d6569a6",
   "metadata": {},
   "outputs": [],
   "source": []
  },
  {
   "cell_type": "code",
   "execution_count": null,
   "id": "eced1a10-5aed-4650-a959-29a6936b5798",
   "metadata": {},
   "outputs": [],
   "source": []
  },
  {
   "cell_type": "code",
   "execution_count": null,
   "id": "36fac0ee-139c-4f8f-9373-12c9449baa83",
   "metadata": {},
   "outputs": [],
   "source": []
  },
  {
   "cell_type": "code",
   "execution_count": null,
   "id": "d7bfbe0b-1125-49d0-957c-d8657fa2494a",
   "metadata": {},
   "outputs": [],
   "source": []
  },
  {
   "cell_type": "code",
   "execution_count": null,
   "id": "bafda31d-8dac-46a7-b460-784725f6f6c0",
   "metadata": {},
   "outputs": [],
   "source": []
  },
  {
   "cell_type": "code",
   "execution_count": null,
   "id": "057ede8e-83df-4605-9e15-399ddf41c505",
   "metadata": {},
   "outputs": [],
   "source": []
  },
  {
   "cell_type": "code",
   "execution_count": null,
   "id": "5e019de2-99d3-4588-80c0-967563ed7ef8",
   "metadata": {},
   "outputs": [],
   "source": []
  },
  {
   "cell_type": "code",
   "execution_count": null,
   "id": "ff7eb7c2-7da0-4965-81df-4bf928908310",
   "metadata": {},
   "outputs": [],
   "source": []
  },
  {
   "cell_type": "code",
   "execution_count": null,
   "id": "d4c5dc3f-6924-4d11-9d34-a8af0989a475",
   "metadata": {},
   "outputs": [],
   "source": []
  },
  {
   "cell_type": "code",
   "execution_count": null,
   "id": "c62bd04c-2c5f-4205-b491-b69c77bb1969",
   "metadata": {},
   "outputs": [],
   "source": []
  },
  {
   "cell_type": "code",
   "execution_count": null,
   "id": "bbde1e00-6e70-46a8-8755-5fdee753995c",
   "metadata": {},
   "outputs": [],
   "source": []
  },
  {
   "cell_type": "code",
   "execution_count": null,
   "id": "d0edf3b5-6699-466a-b67a-6443c560c582",
   "metadata": {},
   "outputs": [],
   "source": []
  },
  {
   "cell_type": "code",
   "execution_count": null,
   "id": "41761fca-ec34-4b09-9122-06b578beeb59",
   "metadata": {},
   "outputs": [],
   "source": []
  },
  {
   "cell_type": "code",
   "execution_count": null,
   "id": "29f88bf6-1b16-4312-addb-eaf3f7674d9c",
   "metadata": {},
   "outputs": [],
   "source": []
  },
  {
   "cell_type": "code",
   "execution_count": null,
   "id": "8a05a9dc-9314-4357-872d-997871d984c8",
   "metadata": {},
   "outputs": [],
   "source": []
  },
  {
   "cell_type": "code",
   "execution_count": null,
   "id": "87ad97b4-9343-4e36-9afb-fbcc591073c1",
   "metadata": {},
   "outputs": [],
   "source": []
  },
  {
   "cell_type": "code",
   "execution_count": null,
   "id": "702c52f8-9b07-4397-bf57-9cd5fed5bf1d",
   "metadata": {},
   "outputs": [],
   "source": []
  },
  {
   "cell_type": "code",
   "execution_count": null,
   "id": "22d015f1-41de-4296-8d0d-0466426f5036",
   "metadata": {},
   "outputs": [],
   "source": []
  },
  {
   "cell_type": "code",
   "execution_count": null,
   "id": "d540009e-da1f-4cff-a963-1f675bb74f28",
   "metadata": {},
   "outputs": [],
   "source": []
  },
  {
   "cell_type": "code",
   "execution_count": null,
   "id": "5a62ed01-0460-473b-9af3-17fcb15832dd",
   "metadata": {},
   "outputs": [],
   "source": []
  },
  {
   "cell_type": "code",
   "execution_count": null,
   "id": "4e6280d0-699a-4221-a7f0-ee517012a58e",
   "metadata": {},
   "outputs": [],
   "source": []
  },
  {
   "cell_type": "code",
   "execution_count": null,
   "id": "3668f9b2-d421-46fe-86a4-78cc65cb48cb",
   "metadata": {},
   "outputs": [],
   "source": []
  },
  {
   "cell_type": "code",
   "execution_count": null,
   "id": "ac71eb51-a636-4ea7-bb0d-bc0efe490a0b",
   "metadata": {},
   "outputs": [],
   "source": []
  },
  {
   "cell_type": "code",
   "execution_count": null,
   "id": "ce8aabd6-04ae-4654-90e5-c5b88670edff",
   "metadata": {},
   "outputs": [],
   "source": []
  },
  {
   "cell_type": "code",
   "execution_count": null,
   "id": "8c1e7151-577d-44ce-81ca-5fcc70a06f17",
   "metadata": {},
   "outputs": [],
   "source": []
  }
 ],
 "metadata": {
  "kernelspec": {
   "display_name": "Python 3 (ipykernel)",
   "language": "python",
   "name": "python3"
  },
  "language_info": {
   "codemirror_mode": {
    "name": "ipython",
    "version": 3
   },
   "file_extension": ".py",
   "mimetype": "text/x-python",
   "name": "python",
   "nbconvert_exporter": "python",
   "pygments_lexer": "ipython3",
   "version": "3.13.1"
  }
 },
 "nbformat": 4,
 "nbformat_minor": 5
}
