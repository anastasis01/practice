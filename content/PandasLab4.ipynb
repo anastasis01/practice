{
 "cells": [
  {
   "cell_type": "markdown",
   "id": "88c3b49f-a0a8-42dd-bb59-77737b0a8bed",
   "metadata": {},
   "source": [
    "## Κάντε import το dataset titanic.csv που βρίσκεται στον φάκελο data"
   ]
  },
  {
   "cell_type": "code",
   "execution_count": null,
   "id": "0941da49-33c2-4721-a54d-645482685bcf",
   "metadata": {},
   "outputs": [],
   "source": []
  },
  {
   "cell_type": "code",
   "execution_count": null,
   "id": "649a3268-7a74-4204-9111-0d577751e5cb",
   "metadata": {},
   "outputs": [],
   "source": []
  },
  {
   "cell_type": "code",
   "execution_count": null,
   "id": "9047dbfd-7678-456d-bfc4-8a4fad896df9",
   "metadata": {},
   "outputs": [],
   "source": []
  },
  {
   "cell_type": "code",
   "execution_count": null,
   "id": "910ecb6a-c32a-46be-ae7c-838d209c2adc",
   "metadata": {},
   "outputs": [],
   "source": []
  },
  {
   "cell_type": "code",
   "execution_count": null,
   "id": "5ceb5bd9-8aee-46af-b5b8-5899c49f1706",
   "metadata": {},
   "outputs": [],
   "source": []
  },
  {
   "cell_type": "markdown",
   "id": "7b3ab976-227f-4dc5-a483-c2f4b8706dc6",
   "metadata": {},
   "source": [
    "## Εμφανίστε τον αριθμό τιμών που λείπουν για κάθε στήλη"
   ]
  },
  {
   "cell_type": "code",
   "execution_count": null,
   "id": "9f6fa75c-9b4f-48ee-927c-68718af7a346",
   "metadata": {},
   "outputs": [],
   "source": []
  },
  {
   "cell_type": "code",
   "execution_count": null,
   "id": "979fece3-e1ad-45b0-b1e1-aa02258ae929",
   "metadata": {},
   "outputs": [],
   "source": []
  },
  {
   "cell_type": "code",
   "execution_count": null,
   "id": "a6b17219-5d4e-4d62-bdc2-3ab2542fd759",
   "metadata": {},
   "outputs": [],
   "source": []
  },
  {
   "cell_type": "code",
   "execution_count": null,
   "id": "49af64f2-e167-482c-b3b7-498944d1fb5a",
   "metadata": {},
   "outputs": [],
   "source": []
  },
  {
   "cell_type": "code",
   "execution_count": null,
   "id": "e027ac89-94bc-40a6-813b-69592397d76b",
   "metadata": {},
   "outputs": [],
   "source": []
  },
  {
   "cell_type": "markdown",
   "id": "83fa6f6f-c5dc-45b7-a33d-c753381cd108",
   "metadata": {},
   "source": [
    "## Συμπληρώστε το Embarked με τη συχνότερη τιμή"
   ]
  },
  {
   "cell_type": "code",
   "execution_count": null,
   "id": "42192ca1-7246-4e69-bd79-48da00381a55",
   "metadata": {},
   "outputs": [],
   "source": []
  },
  {
   "cell_type": "code",
   "execution_count": null,
   "id": "804775a5-d84d-469a-872c-87ecd7af912a",
   "metadata": {},
   "outputs": [],
   "source": []
  },
  {
   "cell_type": "code",
   "execution_count": null,
   "id": "eb1c5484-d688-429b-b892-b38fb050b6b8",
   "metadata": {},
   "outputs": [],
   "source": []
  },
  {
   "cell_type": "code",
   "execution_count": null,
   "id": "d69c6bb3-e44a-44b3-a30d-edc08f25258b",
   "metadata": {},
   "outputs": [],
   "source": []
  },
  {
   "cell_type": "markdown",
   "id": "b7934071-3799-4070-a8ed-69d84a36f7ce",
   "metadata": {},
   "source": [
    "## Συμπληρώστε τις κενές τιμές του Age με τη διάμεσο"
   ]
  },
  {
   "cell_type": "code",
   "execution_count": null,
   "id": "655894e8-1add-4bcd-a432-a352f37b9c6c",
   "metadata": {},
   "outputs": [],
   "source": []
  },
  {
   "cell_type": "code",
   "execution_count": null,
   "id": "0f10b1be-9fc4-4c18-ae22-816320304db2",
   "metadata": {},
   "outputs": [],
   "source": []
  },
  {
   "cell_type": "code",
   "execution_count": null,
   "id": "6d2a87e6-4b3b-48d0-b9d5-a4aedfa940d7",
   "metadata": {},
   "outputs": [],
   "source": []
  },
  {
   "cell_type": "code",
   "execution_count": null,
   "id": "3fc746c9-0047-41ea-bc32-7a3b3d9a6bbd",
   "metadata": {},
   "outputs": [],
   "source": []
  },
  {
   "cell_type": "code",
   "execution_count": null,
   "id": "1f01c97a-253f-44e7-8580-b16dc4ac8de8",
   "metadata": {},
   "outputs": [],
   "source": []
  },
  {
   "cell_type": "code",
   "execution_count": null,
   "id": "f665d08c-a202-4bdf-826d-06234d61c93a",
   "metadata": {},
   "outputs": [],
   "source": []
  },
  {
   "cell_type": "markdown",
   "id": "534df46d-a62a-48b4-8789-63fcc92e757e",
   "metadata": {},
   "source": [
    "## Συμπληρώστε τις κενές τιμές του Cabin με \"Unknown\""
   ]
  },
  {
   "cell_type": "code",
   "execution_count": null,
   "id": "4e449d6f-4437-4346-bf34-96fb25949796",
   "metadata": {},
   "outputs": [],
   "source": []
  },
  {
   "cell_type": "code",
   "execution_count": null,
   "id": "76745a2b-4e4d-4643-9ee9-90401555f27f",
   "metadata": {},
   "outputs": [],
   "source": []
  },
  {
   "cell_type": "code",
   "execution_count": null,
   "id": "a7d26e8f-e452-4b3f-ab3b-8e37dc5a6246",
   "metadata": {},
   "outputs": [],
   "source": []
  },
  {
   "cell_type": "code",
   "execution_count": null,
   "id": "6fe6a916-bb48-4012-becc-baa86569b26d",
   "metadata": {},
   "outputs": [],
   "source": []
  },
  {
   "cell_type": "code",
   "execution_count": null,
   "id": "f5e2be1d-dfc5-471a-83d3-4275b16c02c8",
   "metadata": {},
   "outputs": [],
   "source": []
  },
  {
   "cell_type": "code",
   "execution_count": null,
   "id": "cec1da59-7d7a-46eb-ae2f-d140af603392",
   "metadata": {},
   "outputs": [],
   "source": []
  },
  {
   "cell_type": "code",
   "execution_count": null,
   "id": "9b8bcfd9-38ef-4c88-b400-cf04d9b6eab3",
   "metadata": {},
   "outputs": [],
   "source": []
  },
  {
   "cell_type": "code",
   "execution_count": null,
   "id": "5fa7621a-100e-49fd-b2dc-7984f90b3f68",
   "metadata": {},
   "outputs": [],
   "source": []
  }
 ],
 "metadata": {
  "kernelspec": {
   "display_name": "Python 3 (ipykernel)",
   "language": "python",
   "name": "python3"
  },
  "language_info": {
   "codemirror_mode": {
    "name": "ipython",
    "version": 3
   },
   "file_extension": ".py",
   "mimetype": "text/x-python",
   "name": "python",
   "nbconvert_exporter": "python",
   "pygments_lexer": "ipython3",
   "version": "3.13.1"
  }
 },
 "nbformat": 4,
 "nbformat_minor": 5
}
