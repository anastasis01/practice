{
 "cells": [
  {
   "cell_type": "markdown",
   "id": "4d8d8bf6-61ea-4a06-8398-54bbef71d719",
   "metadata": {},
   "source": [
    "### 1) Μετατρέψτε έναν δεκαδικό(float) σε ακέραιο(int)"
   ]
  },
  {
   "cell_type": "code",
   "execution_count": null,
   "id": "fb0853a6-324e-46ec-b4a7-35a2c0a00d97",
   "metadata": {},
   "outputs": [],
   "source": []
  },
  {
   "cell_type": "code",
   "execution_count": null,
   "id": "cbc045c0-0ede-4955-9e6a-35759564a9e8",
   "metadata": {},
   "outputs": [],
   "source": []
  },
  {
   "cell_type": "code",
   "execution_count": null,
   "id": "4b19eac6-b906-4da8-90c1-a42667f91aad",
   "metadata": {},
   "outputs": [],
   "source": []
  },
  {
   "cell_type": "code",
   "execution_count": null,
   "id": "94c52256-e695-4b7e-8efd-35da8a6ee2e2",
   "metadata": {},
   "outputs": [],
   "source": []
  },
  {
   "cell_type": "code",
   "execution_count": null,
   "id": "9c9df2e8-8e04-4840-8a93-ff376e637e58",
   "metadata": {},
   "outputs": [],
   "source": []
  },
  {
   "cell_type": "markdown",
   "id": "9ef09a19-08ed-41bb-b8b7-622cd6470063",
   "metadata": {},
   "source": [
    "### 2) Μετατρέψτε έναν ακέραιο(int) σε δεκαδικό(int)"
   ]
  },
  {
   "cell_type": "code",
   "execution_count": null,
   "id": "192f422f-ddd5-49c4-807e-38b09e6641a5",
   "metadata": {},
   "outputs": [],
   "source": []
  },
  {
   "cell_type": "code",
   "execution_count": null,
   "id": "929bba45-df90-4e70-b929-442f9ebd12ae",
   "metadata": {},
   "outputs": [],
   "source": []
  },
  {
   "cell_type": "code",
   "execution_count": null,
   "id": "c8d73b9e-440b-4e9f-b791-8070b79f7fe5",
   "metadata": {},
   "outputs": [],
   "source": []
  },
  {
   "cell_type": "code",
   "execution_count": null,
   "id": "16b0843c-b0e6-4d8c-abf0-f52595423a18",
   "metadata": {},
   "outputs": [],
   "source": []
  },
  {
   "cell_type": "markdown",
   "id": "eff4e0ce-a26e-4594-9031-9ec9f05108b7",
   "metadata": {},
   "source": [
    "### 3) Ορίστε δύο συμβολοσειρές και τυπώστε την ένωσή τους"
   ]
  },
  {
   "cell_type": "code",
   "execution_count": null,
   "id": "ea7e92d5-f70b-4ea0-836b-2ccef0e86289",
   "metadata": {},
   "outputs": [],
   "source": []
  },
  {
   "cell_type": "code",
   "execution_count": null,
   "id": "037ac923-21fd-43e6-9b44-82bc62530c21",
   "metadata": {},
   "outputs": [],
   "source": []
  },
  {
   "cell_type": "code",
   "execution_count": null,
   "id": "f734f036-f0fe-46ba-9f5f-717290ce937b",
   "metadata": {},
   "outputs": [],
   "source": []
  },
  {
   "cell_type": "code",
   "execution_count": null,
   "id": "2b1da0a7-92c0-4307-99ef-dc22cbf1f394",
   "metadata": {},
   "outputs": [],
   "source": []
  },
  {
   "cell_type": "code",
   "execution_count": null,
   "id": "8b055ce6-2e8d-4cd0-85bc-f60cb3af664c",
   "metadata": {},
   "outputs": [],
   "source": []
  }
 ],
 "metadata": {
  "kernelspec": {
   "display_name": "Python 3 (ipykernel)",
   "language": "python",
   "name": "python3"
  },
  "language_info": {
   "codemirror_mode": {
    "name": "ipython",
    "version": 3
   },
   "file_extension": ".py",
   "mimetype": "text/x-python",
   "name": "python",
   "nbconvert_exporter": "python",
   "pygments_lexer": "ipython3",
   "version": "3.13.1"
  }
 },
 "nbformat": 4,
 "nbformat_minor": 5
}
