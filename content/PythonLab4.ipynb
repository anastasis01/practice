{
 "cells": [
  {
   "cell_type": "markdown",
   "id": "a6d93d32-f7c8-435c-96ff-07704c3b9803",
   "metadata": {},
   "source": [
    "### Άσκηση 1 "
   ]
  },
  {
   "cell_type": "markdown",
   "id": "18079e5e-4ee2-4e7e-b821-5b5b7d526bea",
   "metadata": {},
   "source": [
    "#### Κάντε τη λίστα fruits1 ίδια με την λίστα fruits2"
   ]
  },
  {
   "cell_type": "markdown",
   "id": "00105327-ab10-4cd9-97f1-a66c7d16152a",
   "metadata": {},
   "source": [
    "#### Χρησιμοποιήστε μόνο μεθόδους append() και remove()"
   ]
  },
   
  {
   "cell_type": "code",
   "execution_count": 14,
   "id": "e60c36c1-5bc6-449c-bd42-a9f5c598aa7f",
   "metadata": {},
   "outputs": [],
   "source": [
    "fruits1=['Apple','Banana','Orange','Pineapple']\n",
    "fruits2=['Apple','Banana','Mango','Strawberry','Watermelon']"
   ]
  },
  {
   "cell_type": "code",
   "execution_count": null,
   "id": "55255ed5-1946-457d-87b2-366dca79b999",
   "metadata": {},
   "outputs": [],
   "source": []
  },
  {
   "cell_type": "code",
   "execution_count": null,
   "id": "18e78d93-2d96-4609-8248-a2b9006d9e01",
   "metadata": {},
   "outputs": [],
   "source": []
  },
  {
   "cell_type": "code",
   "execution_count": null,
   "id": "5c1f9c15-2e86-4d96-92cc-f17a717bb187",
   "metadata": {},
   "outputs": [],
   "source": []
  },
  {
   "cell_type": "code",
   "execution_count": null,
   "id": "d9b00d64-06c7-4a7d-9289-82c20e2e8ffe",
   "metadata": {},
   "outputs": [],
   "source": []
  },
  {
   "cell_type": "code",
   "execution_count": null,
   "id": "259010c7-51ec-4ee8-b790-e50216dc128a",
   "metadata": {},
   "outputs": [],
   "source": []
  },
  {
   "cell_type": "markdown",
   "id": "fdf571cb-11b1-493f-af49-66293502b2d5",
   "metadata": {},
   "source": [
    "### Άσκηση 2"
   ]
  },
  {
   "cell_type": "markdown",
   "id": "19db6aba-a369-4040-b577-a82f08027e4d",
   "metadata": {},
   "source": [
    "#### Τυπώστε όλα τα στοιχεία της λίστας fruits2 με βρόχο"
   ]
  },
  {
   "cell_type": "code",
   "execution_count": null,
   "id": "09a8e1a5-ee4a-4a2e-bce2-1a3f3ad61d28",
   "metadata": {},
   "outputs": [],
   "source": []
  },
  {
   "cell_type": "code",
   "execution_count": null,
   "id": "28dd934f-9f12-40dc-8f1f-66111609de79",
   "metadata": {},
   "outputs": [],
   "source": []
  },
  {
   "cell_type": "code",
   "execution_count": null,
   "id": "1dde64ed-abb5-4b1b-91f1-aaa56e03b78e",
   "metadata": {},
   "outputs": [],
   "source": []
  },
  {
   "cell_type": "code",
   "execution_count": null,
   "id": "ccf7fd29-a6ab-45e0-8581-eceeb39bc0f5",
   "metadata": {},
   "outputs": [],
   "source": []
  },
  {
   "cell_type": "code",
   "execution_count": null,
   "id": "b2f62d93-07b6-4dac-b022-b5509c2180c0",
   "metadata": {},
   "outputs": [],
   "source": []
  },
  {
   "cell_type": "markdown",
   "id": "0b3786c3-bbad-4690-9fd4-ff2dee0c3226",
   "metadata": {},
   "source": [
    "#### Άσκηση 3 "
   ]
  },
  {
   "cell_type": "markdown",
   "id": "b63dc0b6-f364-45d3-833c-712c743aa962",
   "metadata": {},
   "source": [
    "#### Τυπώστε όλα τα στοιχεία της λίστας fruits2 με βρόχο, εκτός από το στοιχείο 'Mango'"
   ]
  },
  {
   "cell_type": "code",
   "execution_count": null,
   "id": "6458da29-f5de-48e0-81b6-d1bb166e7446",
   "metadata": {},
   "outputs": [],
   "source": []
  },
  {
   "cell_type": "code",
   "execution_count": null,
   "id": "5a91ef39-f13a-40bf-84f2-4100fc116d0b",
   "metadata": {},
   "outputs": [],
   "source": []
  },
  {
   "cell_type": "code",
   "execution_count": null,
   "id": "f62df604-05fd-4117-9e70-faa27c484c19",
   "metadata": {},
   "outputs": [],
   "source": []
  },
  {
   "cell_type": "code",
   "execution_count": null,
   "id": "52cff225-ecc4-42a8-be90-e4f67cc7d2c6",
   "metadata": {},
   "outputs": [],
   "source": []
  },
  {
   "cell_type": "code",
   "execution_count": null,
   "id": "0d610878-c992-4927-a046-20bf0edd1895",
   "metadata": {},
   "outputs": [],
   "source": []
  }
 ],
 "metadata": {
  "kernelspec": {
   "display_name": "Python 3 (ipykernel)",
   "language": "python",
   "name": "python3"
  },
  "language_info": {
   "codemirror_mode": {
    "name": "ipython",
    "version": 3
   },
   "file_extension": ".py",
   "mimetype": "text/x-python",
   "name": "python",
   "nbconvert_exporter": "python",
   "pygments_lexer": "ipython3",
   "version": "3.13.1"
  }
 },
 "nbformat": 4,
 "nbformat_minor": 5
}
