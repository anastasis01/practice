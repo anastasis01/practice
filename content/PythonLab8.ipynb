{
 "cells": [
  {
   "cell_type": "markdown",
   "id": "6d3e7d6b-a304-4db9-95cb-d0a66af065fa",
   "metadata": {},
   "source": [
    "### Άσκηση 1"
   ]
  },
  {
   "cell_type": "markdown",
   "id": "5fde6129-c923-41db-99ca-aac1bdc0b216",
   "metadata": {},
   "source": [
    "#### Ορίστε τη συνάρτηση add(a,b) που επιστρέφει το άθροισμα a+b"
   ]
  },
  {
   "cell_type": "code",
   "execution_count": null,
   "id": "ef02189c-e1af-44b9-b6e2-cb43c40da52b",
   "metadata": {},
   "outputs": [],
   "source": []
  },
  {
   "cell_type": "code",
   "execution_count": null,
   "id": "cf3fb6c6-345a-4653-abbf-5b42bbdac3ac",
   "metadata": {},
   "outputs": [],
   "source": []
  },
  {
   "cell_type": "code",
   "execution_count": null,
   "id": "4bcca63d-76e2-4dba-96b7-68b17d08b824",
   "metadata": {},
   "outputs": [],
   "source": []
  },
  {
   "cell_type": "code",
   "execution_count": null,
   "id": "a5247a71-6573-4a6b-b77d-cdf7aba891b6",
   "metadata": {},
   "outputs": [],
   "source": []
  },
  {
   "cell_type": "code",
   "execution_count": null,
   "id": "cfe66098-ab8a-4bc7-b98b-4c0309ee0838",
   "metadata": {},
   "outputs": [],
   "source": []
  },
  {
   "cell_type": "markdown",
   "id": "61f8c96e-6090-4d86-a578-60dd425614a5",
   "metadata": {},
   "source": [
    "### Άσκηση 2"
   ]
  },
  {
   "cell_type": "markdown",
   "id": "1622b0c3-760c-4f83-ac1d-b2193964c836",
   "metadata": {},
   "source": [
    "#### Ορίστε τη συνάρτηση find_max(numbers) που βρίσκει το μέγιστο της λίστας numbers"
   ]
  },
  {
   "cell_type": "code",
   "execution_count": null,
   "id": "e15528ea-6df7-4c16-84f0-86e241106485",
   "metadata": {},
   "outputs": [],
   "source": []
  },
  {
   "cell_type": "code",
   "execution_count": null,
   "id": "78fbfbff-85df-4965-9407-ed7fa8e50443",
   "metadata": {},
   "outputs": [],
   "source": []
  },
  {
   "cell_type": "code",
   "execution_count": null,
   "id": "f37f711d-5353-4f75-bcc5-341eb31f9387",
   "metadata": {},
   "outputs": [],
   "source": []
  },
  {
   "cell_type": "code",
   "execution_count": null,
   "id": "dcdf2cc9-68a8-4152-9c09-52cbc8c36af5",
   "metadata": {},
   "outputs": [],
   "source": []
  },
  {
   "cell_type": "code",
   "execution_count": null,
   "id": "f6216b77-940a-4321-884c-7a00463f17c9",
   "metadata": {},
   "outputs": [],
   "source": []
  },
  {
   "cell_type": "markdown",
   "id": "deb10122-a9c8-43d9-8ff5-c275048e1bc4",
   "metadata": {},
   "source": [
    "### Άσκηση 3"
   ]
  },
  {
   "cell_type": "markdown",
   "id": "c8e44073-533b-4760-98ef-3094668b7ff4",
   "metadata": {},
   "source": [
    "#### Ορίστε τη συνάρτηση max_number(a,b,c,d,e) που επιστρέφει το μέγιστο 5 αριθμών"
   ]
  },
  {
   "cell_type": "code",
   "execution_count": null,
   "id": "1ff2b8d4-dcc9-4f13-acb6-27a73be7126f",
   "metadata": {},
   "outputs": [],
   "source": []
  },
  {
   "cell_type": "code",
   "execution_count": null,
   "id": "1cc5c727-cf38-4a51-9b16-5a5176049036",
   "metadata": {},
   "outputs": [],
   "source": []
  },
  {
   "cell_type": "code",
   "execution_count": null,
   "id": "5270efac-47c3-44eb-894b-16e54f14e696",
   "metadata": {},
   "outputs": [],
   "source": []
  },
  {
   "cell_type": "code",
   "execution_count": null,
   "id": "651619cf-637c-463a-8918-5a04d561bd3a",
   "metadata": {},
   "outputs": [],
   "source": []
  },
  {
   "cell_type": "code",
   "execution_count": null,
   "id": "f111a362-92bd-4db0-a003-611e209b4255",
   "metadata": {},
   "outputs": [],
   "source": []
  },
  {
   "cell_type": "code",
   "execution_count": null,
   "id": "766c6de2-2be3-4010-a245-12c696605523",
   "metadata": {},
   "outputs": [],
   "source": []
  },
  {
   "cell_type": "markdown",
   "id": "c2d3d8e5-5a52-4ae4-bd8a-0b3c420a1323",
   "metadata": {},
   "source": [
    "### Άσκηση  4"
   ]
  },
  {
   "cell_type": "markdown",
   "id": "6a4d9b1f-70ed-4063-a7ab-e21dfd335b42",
   "metadata": {},
   "source": [
    "#### Ορίστε τη συνάρτηση even(numbers) που τυπώνει σε ξεχωριστή γραμμή κάθε άρτιο αριθμό στη λίστα numers"
   ]
  },
  {
   "cell_type": "code",
   "execution_count": null,
   "id": "146a41a4-7691-46fd-8825-c0530b5e5e29",
   "metadata": {},
   "outputs": [],
   "source": []
  },
  {
   "cell_type": "code",
   "execution_count": null,
   "id": "5bfe084a-4fef-4ae5-84ff-8aec06186914",
   "metadata": {},
   "outputs": [],
   "source": []
  },
  {
   "cell_type": "code",
   "execution_count": null,
   "id": "33157928-195c-43b7-9701-81b05345881f",
   "metadata": {},
   "outputs": [],
   "source": []
  },
  {
   "cell_type": "code",
   "execution_count": null,
   "id": "66f50952-d259-423a-b126-85e038de2600",
   "metadata": {},
   "outputs": [],
   "source": []
  },
  {
   "cell_type": "code",
   "execution_count": null,
   "id": "a3c8a649-1135-4e1a-939d-db1000772f30",
   "metadata": {},
   "outputs": [],
   "source": []
  },
  {
   "cell_type": "code",
   "execution_count": null,
   "id": "5b1ce1ea-1cc0-4e62-a86a-34e2b2644653",
   "metadata": {},
   "outputs": [],
   "source": []
  },
  {
   "cell_type": "markdown",
   "id": "3a54e345-0ef2-4987-b104-c5651c97acbd",
   "metadata": {},
   "source": [
    "### Άσκηση 5"
   ]
  },
  {
   "cell_type": "markdown",
   "id": "40ec478f-0523-4a40-b94e-1c66c6b33d51",
   "metadata": {},
   "source": [
    "#### Ορίστε τη συνάρτηση is_palindrome(word) που ελέγχει αν μια λέξη είναι παλίνδρομη"
   ]
  },
  {
   "cell_type": "code",
   "execution_count": null,
   "id": "b42d1838-c340-4f64-9b43-7701c7697219",
   "metadata": {},
   "outputs": [],
   "source": []
  },
  {
   "cell_type": "code",
   "execution_count": null,
   "id": "85a72edc-b9f4-4f8d-817a-1b17acf02925",
   "metadata": {},
   "outputs": [],
   "source": []
  },
  {
   "cell_type": "code",
   "execution_count": null,
   "id": "877651b4-10ac-426f-aa7d-248b0e5e9fb6",
   "metadata": {},
   "outputs": [],
   "source": []
  },
  {
   "cell_type": "code",
   "execution_count": null,
   "id": "de410880-a2d4-4104-836e-2b665ba237e7",
   "metadata": {},
   "outputs": [],
   "source": []
  },
  {
   "cell_type": "code",
   "execution_count": null,
   "id": "df184524-c2b0-46ef-bbc2-2e71b3688fe6",
   "metadata": {},
   "outputs": [],
   "source": []
  },
  {
   "cell_type": "code",
   "execution_count": null,
   "id": "13e3a32f-b56d-49e9-80bf-c7c719ce2f5b",
   "metadata": {},
   "outputs": [],
   "source": []
  },
  {
   "cell_type": "markdown",
   "id": "0df113e9-e339-423e-a525-20af81742197",
   "metadata": {},
   "source": [
    "### Άσκηση 6"
   ]
  },
  {
   "cell_type": "markdown",
   "id": "206183f8-95a9-47cb-8636-9347bd06b898",
   "metadata": {},
   "source": [
    "#### Ορίστε τη συνάρτηση max_count(numbers) που επιστρέφει τον αριθμό με τις περισσότερες εμφανίσεις στη λίστα "
   ]
  },
  {
   "cell_type": "code",
   "execution_count": null,
   "id": "9447e789-3a5d-41a8-9358-ff1495b19737",
   "metadata": {},
   "outputs": [],
   "source": []
  },
  {
   "cell_type": "code",
   "execution_count": null,
   "id": "60d84fe8-7251-453f-8267-8551cb07a246",
   "metadata": {},
   "outputs": [],
   "source": []
  },
  {
   "cell_type": "code",
   "execution_count": null,
   "id": "57871491-81b3-4186-9945-7d32ea783b69",
   "metadata": {},
   "outputs": [],
   "source": []
  },
  {
   "cell_type": "code",
   "execution_count": null,
   "id": "3bd24611-7475-436f-99ff-37ff8bca0565",
   "metadata": {},
   "outputs": [],
   "source": []
  },
  {
   "cell_type": "code",
   "execution_count": null,
   "id": "7d3c01cc-653b-4ab0-8bd7-cca84bec832f",
   "metadata": {},
   "outputs": [],
   "source": []
  },
  {
   "cell_type": "code",
   "execution_count": null,
   "id": "0573f308-d939-4ae4-8b96-437762dbde7c",
   "metadata": {},
   "outputs": [],
   "source": []
  }
 ],
 "metadata": {
  "kernelspec": {
   "display_name": "Python 3 (ipykernel)",
   "language": "python",
   "name": "python3"
  },
  "language_info": {
   "codemirror_mode": {
    "name": "ipython",
    "version": 3
   },
   "file_extension": ".py",
   "mimetype": "text/x-python",
   "name": "python",
   "nbconvert_exporter": "python",
   "pygments_lexer": "ipython3",
   "version": "3.13.1"
  }
 },
 "nbformat": 4,
 "nbformat_minor": 5
}
