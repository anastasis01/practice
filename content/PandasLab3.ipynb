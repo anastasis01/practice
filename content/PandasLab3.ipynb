{
 "cells": [
  {
   "cell_type": "markdown",
   "id": "d6c55278-e13e-4712-ae5c-de7eedf4d6d3",
   "metadata": {},
   "source": [
    "## Φορτώστε το heart_disease.csv που βρίσκεται στον φάκελο data "
   ]
  },
  {
   "cell_type": "code",
   "execution_count": null,
   "id": "9ffe06d4-282e-4227-b50c-ffd4462dc534",
   "metadata": {},
   "outputs": [],
   "source": [
    " "
   ]
  },
  {
   "cell_type": "code",
   "execution_count": null,
   "id": "ac96576e-9e37-4ce7-8f14-21aa425e990c",
   "metadata": {},
   "outputs": [],
   "source": [
    " "
   ]
  },
  {
   "cell_type": "code",
   "execution_count": null,
   "id": "71e2e75d-93a7-48ce-8c80-1d6429536fc7",
   "metadata": {},
   "outputs": [],
   "source": [
    " "
   ]
  },
  {
   "cell_type": "markdown",
   "id": "dd428128-0639-41b6-87d4-5ffe49331e38",
   "metadata": {},
   "source": [
    "## Εμφανίστε τις 10 πρώτες γραμμές"
   ]
  },
  {
   "cell_type": "code",
   "execution_count": null,
   "id": "3999eb25-63a2-4a1b-8a26-3782376b3f51",
   "metadata": {},
   "outputs": [],
   "source": [
    " "
   ]
  },
  {
   "cell_type": "markdown",
   "id": "97de65e9-d212-4bce-8504-1f9698e757a9",
   "metadata": {},
   "source": [
    "## Εμφανίστε τις 10 τελευταίες γραμμές"
   ]
  },
  {
   "cell_type": "code",
   "execution_count": null,
   "id": "4c41a0ff-686f-4df3-8307-de1e627a81f5",
   "metadata": {},
   "outputs": [],
   "source": [
    " "
   ]
  },
  {
   "cell_type": "markdown",
   "id": "01a7b4ad-2a90-499a-b4cd-c4f30ac24c8f",
   "metadata": {},
   "source": [
    "## Βρείτε το μήκος του DataFrame"
   ]
  },
  {
   "cell_type": "code",
   "execution_count": null,
   "id": "05e39ef5-2264-4d97-9bb2-ce604c91cb68",
   "metadata": {},
   "outputs": [],
   "source": [
    " "
   ]
  },
  {
   "cell_type": "markdown",
   "id": "b47de795-07ae-4074-83db-cd3844fd989d",
   "metadata": {},
   "source": [
    "## Επιλέξτε τα records με χοληστερόλη μεγαλύτερη από 200.0"
   ]
  },
  {
   "cell_type": "code",
   "execution_count": null,
   "id": "449dbe76-3ca3-4214-bfe8-98e20c8912ee",
   "metadata": {},
   "outputs": [],
   "source": [
    " "
   ]
  },
  {
   "cell_type": "markdown",
   "id": "4f7d8bc8-84cf-41b6-a557-1e4936a980cd",
   "metadata": {},
   "source": [
    "## Επιλέξτε τα records με καρδιοπάθεια (target=yes)"
   ]
  },
  {
   "cell_type": "code",
   "execution_count": null,
   "id": "9a78ff21-3a80-4634-9aaf-502be9696d7f",
   "metadata": {},
   "outputs": [],
   "source": [
    " "
   ]
  },
  {
   "cell_type": "markdown",
   "id": "f7e0d351-4bb4-489b-99a6-7d8ff337cee3",
   "metadata": {},
   "source": [
    "## Στις πρώτες 4 γραμμές κάντε το age ίσο με 100"
   ]
  },
  {
   "cell_type": "code",
   "execution_count": null,
   "id": "19c0c794-2cd6-47d2-9ec8-6aead8639e98",
   "metadata": {},
   "outputs": [],
   "source": [
    " "
   ]
  },
  {
   "cell_type": "code",
   "execution_count": null,
   "id": "eb547631-4322-4369-8584-837ab1a57903",
   "metadata": {},
   "outputs": [],
   "source": [
    " "
   ]
  },
  {
   "cell_type": "markdown",
   "id": "e1a03b24-f3a4-4dc3-bfac-615efe09c209",
   "metadata": {},
   "source": [
    "## Βρείτε τα βασικά περιγραφικά στατιστικά του αρχικού DataFrame"
   ]
  },
  {
   "cell_type": "code",
   "execution_count": null,
   "id": "a243b1de-d5cb-436a-affd-fc64fd32d7cd",
   "metadata": {},
   "outputs": [],
   "source": [
    " "
   ]
  },
  {
   "cell_type": "code",
   "execution_count": null,
   "id": "b4d450b4-1468-4e5d-87e4-fbe9bfb00a0b",
   "metadata": {},
   "outputs": [],
   "source": [
    " "
   ]
  },
  {
   "cell_type": "code",
   "execution_count": null,
   "id": "6c76f08e-03cb-482f-96e8-6e3461280509",
   "metadata": {},
   "outputs": [],
   "source": []
  }
 ],
 "metadata": {
  "kernelspec": {
   "display_name": "Python 3 (ipykernel)",
   "language": "python",
   "name": "python3"
  },
  "language_info": {
   "codemirror_mode": {
    "name": "ipython",
    "version": 3
   },
   "file_extension": ".py",
   "mimetype": "text/x-python",
   "name": "python",
   "nbconvert_exporter": "python",
   "pygments_lexer": "ipython3",
   "version": "3.13.1"
  }
 },
 "nbformat": 4,
 "nbformat_minor": 5
}
