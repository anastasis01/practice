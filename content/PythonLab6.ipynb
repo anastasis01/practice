{
 "cells": [
  {
   "cell_type": "markdown",
   "id": "2fae2bb6-4f23-4d35-88b2-9e966ec04270",
   "metadata": {},
   "source": [
    "### 1) Δημιουργήστε το λεξικό students με τους μαθητές και τις ηλικίες τους"
   ]
  },
  {
   "cell_type": "code",
   "execution_count": null,
   "id": "a83ee91a-783d-47d8-9e04-da80facbc487",
   "metadata": {},
   "outputs": [],
   "source": [
    "## Μαρία--->22\n",
    "## Γιάννης-->19\n",
    "## Κώστας--->20\n",
    "## Ελένη---> 21"
   ]
  },
  {
   "cell_type": "code",
   "execution_count": null,
   "id": "4b94453f-5082-4996-b487-7de0367705a2",
   "metadata": {},
   "outputs": [],
   "source": []
  },
  {
   "cell_type": "code",
   "execution_count": null,
   "id": "f8946f95-b410-4363-87eb-1398d8f6f87b",
   "metadata": {},
   "outputs": [],
   "source": []
  },
  {
   "cell_type": "code",
   "execution_count": null,
   "id": "b9e2f0e7-200e-4141-abc1-f811c6694be8",
   "metadata": {},
   "outputs": [],
   "source": []
  },
  {
   "cell_type": "code",
   "execution_count": null,
   "id": "388126d3-aa4c-4ba5-9aa1-faba66dba2b4",
   "metadata": {},
   "outputs": [],
   "source": []
  },
  {
   "cell_type": "code",
   "execution_count": null,
   "id": "a3166799-8db0-460b-816f-901f01998ee9",
   "metadata": {},
   "outputs": [],
   "source": []
  },
  {
   "cell_type": "markdown",
   "id": "990ad04b-621e-4f29-b45a-8f22c7505372",
   "metadata": {},
   "source": [
    "### 2) Η Ελένη μόλις έγινε 22. Ενημερώστε την ηλικία της"
   ]
  },
  {
   "cell_type": "code",
   "execution_count": null,
   "id": "b631e8a9-d626-418f-9ca0-63bfd44a87dd",
   "metadata": {},
   "outputs": [],
   "source": []
  },
  {
   "cell_type": "code",
   "execution_count": null,
   "id": "7bb1ddc6-e429-433a-b405-5b0d0c933dc7",
   "metadata": {},
   "outputs": [],
   "source": []
  },
  {
   "cell_type": "code",
   "execution_count": null,
   "id": "94b325dc-a492-42e7-83eb-c62dd807718a",
   "metadata": {},
   "outputs": [],
   "source": []
  },
  {
   "cell_type": "code",
   "execution_count": null,
   "id": "2f854c98-98af-47f6-a52d-d34aae5fad63",
   "metadata": {},
   "outputs": [],
   "source": []
  },
  {
   "cell_type": "code",
   "execution_count": null,
   "id": "f7c964d9-04a5-4332-9214-e63834d647cc",
   "metadata": {},
   "outputs": [],
   "source": []
  },
  {
   "cell_type": "markdown",
   "id": "e0a3a627-64de-4cad-a255-113a938bd4eb",
   "metadata": {},
   "source": [
    "### 3) Τυπώστε με for loop για κάθε μαθητή το όνομα και την ηλικία του,πχ Ελένη 22 "
   ]
  },
  {
   "cell_type": "code",
   "execution_count": null,
   "id": "dbddfdf5-07c6-47a4-987b-317e971a38b1",
   "metadata": {},
   "outputs": [],
   "source": []
  },
  {
   "cell_type": "code",
   "execution_count": null,
   "id": "11ed50a9-45d7-4aa0-a034-93c226536473",
   "metadata": {},
   "outputs": [],
   "source": []
  },
  {
   "cell_type": "code",
   "execution_count": null,
   "id": "023d826a-8fc1-4c6d-ad9f-6bacdf1fe8b6",
   "metadata": {},
   "outputs": [],
   "source": []
  },
  {
   "cell_type": "code",
   "execution_count": null,
   "id": "44195245-be83-459d-b732-903a12c4d43e",
   "metadata": {},
   "outputs": [],
   "source": []
  },
  {
   "cell_type": "code",
   "execution_count": null,
   "id": "dd247ca8-2e68-4a87-ba16-55b00027fa9a",
   "metadata": {},
   "outputs": [],
   "source": []
  },
  {
   "cell_type": "code",
   "execution_count": null,
   "id": "bda96994-2269-4442-9f77-7916034cf703",
   "metadata": {},
   "outputs": [],
   "source": []
  },
  {
   "cell_type": "code",
   "execution_count": null,
   "id": "2db35375-0cce-43e5-a819-fb395ebbbb90",
   "metadata": {},
   "outputs": [],
   "source": []
  },
  {
   "cell_type": "code",
   "execution_count": null,
   "id": "8bc4b49f-6c5a-429a-93bd-14a249f3c9e2",
   "metadata": {},
   "outputs": [],
   "source": []
  },
  {
   "cell_type": "code",
   "execution_count": null,
   "id": "825a40e0-e521-4508-8be6-bde7e7fe6464",
   "metadata": {},
   "outputs": [],
   "source": []
  },
  {
   "cell_type": "code",
   "execution_count": null,
   "id": "09180847-aa4b-41d0-a51b-7eefb3706e34",
   "metadata": {},
   "outputs": [],
   "source": []
  },
  {
   "cell_type": "code",
   "execution_count": null,
   "id": "09fe2d04-fdb0-402d-88e0-717022eabf98",
   "metadata": {},
   "outputs": [],
   "source": []
  },
  {
   "cell_type": "code",
   "execution_count": null,
   "id": "c334901a-1c4b-4c5a-915d-1477941b638e",
   "metadata": {},
   "outputs": [],
   "source": []
  },
  {
   "cell_type": "code",
   "execution_count": null,
   "id": "90b93159-3318-494e-a1b8-1d79d4798b54",
   "metadata": {},
   "outputs": [],
   "source": []
  },
  {
   "cell_type": "code",
   "execution_count": null,
   "id": "97030465-002c-451b-a74c-0d79288e32ee",
   "metadata": {},
   "outputs": [],
   "source": []
  },
  {
   "cell_type": "code",
   "execution_count": null,
   "id": "ff24d560-d4ae-48e4-8407-395b9e08421c",
   "metadata": {},
   "outputs": [],
   "source": []
  },
  {
   "cell_type": "code",
   "execution_count": null,
   "id": "3c793181-b8fb-43f9-8b06-f61c3f88e050",
   "metadata": {},
   "outputs": [],
   "source": []
  },
  {
   "cell_type": "code",
   "execution_count": null,
   "id": "83b7ccb2-de61-4428-9457-952426a95a1d",
   "metadata": {},
   "outputs": [],
   "source": []
  },
  {
   "cell_type": "code",
   "execution_count": null,
   "id": "bc788a82-23d2-4442-b976-6f2579bc40ae",
   "metadata": {},
   "outputs": [],
   "source": []
  },
  {
   "cell_type": "code",
   "execution_count": null,
   "id": "8e4ecf48-39b1-41f3-a1e9-386754a691d1",
   "metadata": {},
   "outputs": [],
   "source": []
  },
  {
   "cell_type": "code",
   "execution_count": null,
   "id": "8c8fc850-27f6-4051-8a19-1f21bb7aa8eb",
   "metadata": {},
   "outputs": [],
   "source": []
  },
  {
   "cell_type": "code",
   "execution_count": null,
   "id": "88eeee12-3f2a-41db-819e-9ebcfc515bcd",
   "metadata": {},
   "outputs": [],
   "source": []
  },
  {
   "cell_type": "code",
   "execution_count": null,
   "id": "a36ef003-2877-4ff1-90f5-05d054c025b0",
   "metadata": {},
   "outputs": [],
   "source": []
  },
  {
   "cell_type": "code",
   "execution_count": null,
   "id": "e8162c74-70fb-4cf8-ba65-cc40aee4e474",
   "metadata": {},
   "outputs": [],
   "source": []
  },
  {
   "cell_type": "code",
   "execution_count": null,
   "id": "bbcb8fc9-a9a0-4c57-9a80-7480c411f399",
   "metadata": {},
   "outputs": [],
   "source": []
  },
  {
   "cell_type": "code",
   "execution_count": null,
   "id": "35e45958-bd30-44a9-9f70-09c21d4d633c",
   "metadata": {},
   "outputs": [],
   "source": []
  },
  {
   "cell_type": "code",
   "execution_count": null,
   "id": "8b748f15-7ffe-461a-8509-0071ecc146f1",
   "metadata": {},
   "outputs": [],
   "source": []
  },
  {
   "cell_type": "code",
   "execution_count": null,
   "id": "8b7d9924-54cd-47fa-9dc0-d5bfa3ab3991",
   "metadata": {},
   "outputs": [],
   "source": []
  },
  {
   "cell_type": "code",
   "execution_count": null,
   "id": "8fe092fd-ce61-4eaf-aaed-e5fef8057b4c",
   "metadata": {},
   "outputs": [],
   "source": []
  },
  {
   "cell_type": "code",
   "execution_count": null,
   "id": "83795545-04ae-4407-a8e3-9da25d673ffb",
   "metadata": {},
   "outputs": [],
   "source": []
  },
  {
   "cell_type": "code",
   "execution_count": null,
   "id": "20633dc1-e1e6-4e85-8dbb-f28129f3261a",
   "metadata": {},
   "outputs": [],
   "source": []
  },
  {
   "cell_type": "code",
   "execution_count": null,
   "id": "32277bb4-b8fd-44ab-a02c-c26357a3cd28",
   "metadata": {},
   "outputs": [],
   "source": []
  },
  {
   "cell_type": "code",
   "execution_count": null,
   "id": "7c8ac5cc-d709-4f74-84d2-1443b73cde55",
   "metadata": {},
   "outputs": [],
   "source": []
  },
  {
   "cell_type": "code",
   "execution_count": null,
   "id": "34087495-0fc9-460a-aec0-1c357b1a55ef",
   "metadata": {},
   "outputs": [],
   "source": []
  },
  {
   "cell_type": "code",
   "execution_count": null,
   "id": "377d81f3-602b-46e7-aa62-dd6c440e12fc",
   "metadata": {},
   "outputs": [],
   "source": []
  },
  {
   "cell_type": "code",
   "execution_count": null,
   "id": "322ee05d-7921-49ae-bef7-026f8be40256",
   "metadata": {},
   "outputs": [],
   "source": []
  },
  {
   "cell_type": "code",
   "execution_count": null,
   "id": "5c8ebe75-d3c6-480d-ba51-eed18a302cda",
   "metadata": {},
   "outputs": [],
   "source": []
  },
  {
   "cell_type": "code",
   "execution_count": null,
   "id": "5b3988af-89c6-4a87-9602-a3f9cc94668f",
   "metadata": {},
   "outputs": [],
   "source": []
  },
  {
   "cell_type": "code",
   "execution_count": null,
   "id": "f70ec7c2-372a-4f56-a004-35e21d719c36",
   "metadata": {},
   "outputs": [],
   "source": []
  },
  {
   "cell_type": "code",
   "execution_count": null,
   "id": "dfa37077-cc35-4262-870b-021d9088cb79",
   "metadata": {},
   "outputs": [],
   "source": []
  }
 ],
 "metadata": {
  "kernelspec": {
   "display_name": "Python 3 (ipykernel)",
   "language": "python",
   "name": "python3"
  },
  "language_info": {
   "codemirror_mode": {
    "name": "ipython",
    "version": 3
   },
   "file_extension": ".py",
   "mimetype": "text/x-python",
   "name": "python",
   "nbconvert_exporter": "python",
   "pygments_lexer": "ipython3",
   "version": "3.13.1"
  }
 },
 "nbformat": 4,
 "nbformat_minor": 5
}
