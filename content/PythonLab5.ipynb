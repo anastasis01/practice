{
 "cells": [
  {
   "cell_type": "markdown",
   "id": "a1720827-26f8-4f8f-86d1-bd50f9ec6d3c",
   "metadata": {},
   "source": [
    "### Άσκηση 1  "
   ]
  },
  {
   "cell_type": "markdown",
   "id": "535b5d29-0dea-40c1-91a7-2d301cf1f521",
   "metadata": {},
   "source": [
    "#### Τυπώστε όλους τους άρτιους αριθμούς από το 1 μέχρι ΚΑΙ το 100"
   ]
  },
  {
   "cell_type": "code",
   "execution_count": null,
   "id": "457cb283-2bb6-486c-9634-39268e32ef39",
   "metadata": {},
   "outputs": [],
   "source": []
  },
  {
   "cell_type": "code",
   "execution_count": null,
   "id": "00569744-e033-4b7b-a68b-82d04ea74eb3",
   "metadata": {},
   "outputs": [],
   "source": []
  },
  {
   "cell_type": "code",
   "execution_count": null,
   "id": "117adef8-e95a-4261-a25f-5cd3bddff89c",
   "metadata": {},
   "outputs": [],
   "source": []
  },
  {
   "cell_type": "code",
   "execution_count": null,
   "id": "7c49a861-513e-4a9c-ac7e-a16a6359e054",
   "metadata": {},
   "outputs": [],
   "source": []
  },
  {
   "cell_type": "code",
   "execution_count": null,
   "id": "327157ef-848a-41b8-98f4-9a7309bf6075",
   "metadata": {},
   "outputs": [],
   "source": []
  },
  {
   "cell_type": "code",
   "execution_count": null,
   "id": "17983a1d-2496-44a8-b90e-c04b5e83b2ec",
   "metadata": {},
   "outputs": [],
   "source": []
  },
  {
   "cell_type": "markdown",
   "id": "2cc0f3fc-5b81-4354-b0c1-03717859869e",
   "metadata": {},
   "source": [
    "### Άσκηση 2"
   ]
  },
  {
   "cell_type": "markdown",
   "id": "b0be38b7-4c5e-47f6-b7e1-e43875196ac3",
   "metadata": {},
   "source": [
    "#### Με χρήση βρόχου φτιάξτε την αντεστραμμένη λίστα reversed_list (με τα στοιχεία της original)"
   ]
  },
  {
   "cell_type": "code",
   "execution_count": null,
   "id": "cf389d46-be49-4452-90b4-08b6890802f8",
   "metadata": {},
   "outputs": [],
   "source": [
    "original=[1,2,10,4,9,6,20,12,13]"
   ]
  },
  {
   "cell_type": "code",
   "execution_count": null,
   "id": "4f0bbb91-2536-43e1-821e-2879e5430233",
   "metadata": {},
   "outputs": [],
   "source": []
  },
  {
   "cell_type": "code",
   "execution_count": null,
   "id": "3ec1d1d7-f4fc-4718-af45-7469615358da",
   "metadata": {},
   "outputs": [],
   "source": []
  },
  {
   "cell_type": "code",
   "execution_count": null,
   "id": "bcd9242d-bdea-45e5-8dc2-97c50e6698e9",
   "metadata": {},
   "outputs": [],
   "source": []
  },
  {
   "cell_type": "code",
   "execution_count": null,
   "id": "b584dfa1-7cf5-43b5-a15e-9ee63f1ca9c3",
   "metadata": {},
   "outputs": [],
   "source": []
  },
  {
   "cell_type": "markdown",
   "id": "5f6851d0-b91c-42f0-928a-9458c624365f",
   "metadata": {},
   "source": [
    "### Άσκηση 3"
   ]
  },
  {
   "cell_type": "markdown",
   "id": "026bab6b-41a9-45d8-b65c-6e83ff3c2553",
   "metadata": {},
   "source": [
    "#### Χωρίς χρήση max(), βρείτε τον μεγαλύτερο αριθμό της λίστας original"
   ]
  },
  {
   "cell_type": "code",
   "execution_count": null,
   "id": "c8706e24-a573-4fd3-8026-b517950cb64a",
   "metadata": {},
   "outputs": [],
   "source": []
  },
  {
   "cell_type": "code",
   "execution_count": null,
   "id": "5576d68f-10b9-46be-9079-713ed3fed73b",
   "metadata": {},
   "outputs": [],
   "source": []
  },
  {
   "cell_type": "code",
   "execution_count": null,
   "id": "c527b3b2-d344-41d6-b547-a5b76c7c7f30",
   "metadata": {},
   "outputs": [],
   "source": []
  },
  {
   "cell_type": "code",
   "execution_count": null,
   "id": "f9e345fb-df23-4a44-b859-4c67e844c880",
   "metadata": {},
   "outputs": [],
   "source": []
  },
  {
   "cell_type": "code",
   "execution_count": null,
   "id": "8d1bfb07-eb3e-4404-930b-5c424fc85977",
   "metadata": {},
   "outputs": [],
   "source": []
  },
  {
   "cell_type": "markdown",
   "id": "826e4368-339e-4073-84f0-b1940402b4a7",
   "metadata": {},
   "source": [
    "### Άσκηση 4"
   ]
  },
  {
   "cell_type": "markdown",
   "id": "36c28544-8a6f-4da7-b27a-451096f9e7b9",
   "metadata": {},
   "source": [
    "#### Δημιουργήστε μια λίστα με βάση τη λίστα numbers, όπου κάθε στοιχείο είναι διπλάσιο του αρχικού"
   ]
  },
  {
   "cell_type": "code",
   "execution_count": null,
   "id": "320ecb3c-2bd9-4799-9d2a-078b7528cab4",
   "metadata": {},
   "outputs": [],
   "source": [
    "numbers = [1, 3, 5, 7, 19, 27]"
   ]
  },
  {
   "cell_type": "code",
   "execution_count": null,
   "id": "37c56815-53ad-4d85-be9f-e732881f1136",
   "metadata": {},
   "outputs": [],
   "source": []
  },
  {
   "cell_type": "code",
   "execution_count": null,
   "id": "ff3a6b1f-e061-4223-9a05-e421ad820e3a",
   "metadata": {},
   "outputs": [],
   "source": []
  },
  {
   "cell_type": "code",
   "execution_count": null,
   "id": "f19ca610-c316-4eb3-bf50-9f36f160e59f",
   "metadata": {},
   "outputs": [],
   "source": []
  },
  {
   "cell_type": "code",
   "execution_count": null,
   "id": "655985a3-08e4-47e6-aa89-e78b20d405f1",
   "metadata": {},
   "outputs": [],
   "source": []
  },
  {
   "cell_type": "code",
   "execution_count": null,
   "id": "3e0d48d6-0872-4de5-bc50-34322336ae9d",
   "metadata": {},
   "outputs": [],
   "source": []
  }
 ],
 "metadata": {
  "kernelspec": {
   "display_name": "Python 3 (ipykernel)",
   "language": "python",
   "name": "python3"
  },
  "language_info": {
   "codemirror_mode": {
    "name": "ipython",
    "version": 3
   },
   "file_extension": ".py",
   "mimetype": "text/x-python",
   "name": "python",
   "nbconvert_exporter": "python",
   "pygments_lexer": "ipython3",
   "version": "3.13.1"
  }
 },
 "nbformat": 4,
 "nbformat_minor": 5
}
